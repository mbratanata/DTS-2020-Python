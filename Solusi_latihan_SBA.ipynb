{
  "nbformat": 4,
  "nbformat_minor": 0,
  "metadata": {
    "colab": {
      "name": "Solusi_latihan_SBA.ipynb",
      "provenance": [],
      "collapsed_sections": []
    },
    "kernelspec": {
      "name": "python3",
      "display_name": "Python 3"
    }
  },
  "cells": [
    {
      "cell_type": "markdown",
      "metadata": {
        "id": "ZTlCvfWTnMj3",
        "colab_type": "text"
      },
      "source": [
        "**SBA Practice**\n",
        "\n",
        "Started: Jul 3 at 1:37am\n",
        "\n",
        "Quiz Instructions\n",
        "1. Semua soal bersifat \"coding\", persiapkan text editor anda sebelum memulai Skill Based Assessment (SBA) ini.\n",
        "2. Sifat Skill Based Assessment ini individu dan dilarang bekerja sama.\n",
        "3. Waktu yang diberikan 90 menit setelah anda memulai quiz. Pastikan koneksi internet cukup baik. Jadi kalau sudah membuka quiz ini, berarti saudara sudah memulai ujiannya dan selesaikan soalnya dengan baik."
      ]
    },
    {
      "cell_type": "markdown",
      "metadata": {
        "id": "Ta6FO-l8nWcB",
        "colab_type": "text"
      },
      "source": [
        "**Question 1           100 pts**\n",
        "\n",
        "DTS Python 2020 - Latihan SBA\n",
        "\n",
        "Instruksi:\n",
        "- Untuk mengerjakan di google colab: di sini (Links to an external site.)\n",
        "- Untuk mengerjakan di idle atau vscode bisa download terlebih dahulu dari google colab.\n",
        "- PASTIKAN ANDA TIDAK LUPA MENGISI VARIABLE EMAIL DENGAN STRING EMAIL NETACAD ANDA. Tambahkan variable remedy=1, HANYA untuk peserta yang belum lulus p1, p2, dan p3 (semua project).\n",
        "\n",
        "SOAL:\n",
        "\n",
        "1. Buatlah sebuah class dengan nama titik2d. dengan detail sebagai berikut:\n",
        "\n",
        "  - Terdiri dari dua atribut yaitu x dan y, yang dapat diinisiasikan pada saat pembuatan instance/obyek dari kelas tersebut (method constructor-nya poisional argumen x dan y.\n",
        "  - Memiliki method dengan nama ambiltitik yang mengembalikan sebuah tuple dengan nilai (x,y).\n",
        "  - Dan, memiliki method tambahkan dengan satu nilai masukan/argumen titik (type: class titik2d). Method ini mengupdate atribute (x,y) dengan menambahkan elemen x dan y dari kelas tersebut dengan element x dan y dari masukan/argumen titik. sedemikian hingga x = x_lama+x_baru, dan y = y_lama+y_baru.\n",
        "\n",
        "*note: anda bisa mengubah nama variable titik tersebut dengan nama yang lain jika berkenan*\n",
        "\n",
        "2. Buatlah fungsi dengan nama run dimana fungsi ini tidak memiliki masukan/argument apapun. Di dalam fungsi ini, anda diminta untuk membuat script yang meminta inputan dari user berupa dua buah nilai yang dipisahkan dengan space. Kemudian buatlah sebuah obyek/instance titik2d dari nilai masukan tersebut. Obyek tersebut merupakan kembalian (return value) dari fungsi run. Note: Gunakan hanya satu kali perintah input().\n",
        "\n",
        "**Upload python file dengan nama latihanSBA.py. Pastikan file tersebut merupakan python file.**"
      ]
    },
    {
      "cell_type": "code",
      "metadata": {
        "id": "o7NZc-AGPluY",
        "colab_type": "code",
        "colab": {
          "base_uri": "https://localhost:8080/",
          "height": 68
        },
        "outputId": "bab02b8e-e5dc-4b62-c33f-ad5c51dcef15"
      },
      "source": [
        "'''\n",
        "namafile: latihanSBA.py\n",
        "Lembar kerja/script Latihan SBA\n",
        "'''\n",
        "# >>>>>>LEMBAR KERJA>>>>>>>>>\n",
        "# lembar ini hanya berisi pendefinisian fungsi dan class saja\n",
        "\n",
        "#email netacad\n",
        "email = ''\n",
        "\n",
        "import math\n",
        "\n",
        "#soal 1\n",
        "class titik2d:  \n",
        "  \n",
        "  def __init__(self,x,y):\n",
        "    self.x = int(x)\n",
        "    self.y = int(y)\n",
        "\n",
        "  def ambiltitik(self):\n",
        "    return self.x, self.y  \n",
        "  \n",
        "  def tambahkan(self,titik):\n",
        "    self.x +=titik.x\n",
        "    self.y +=titik.y\n",
        "    \n",
        "# soal 2\n",
        "def run():\n",
        "  s = list(map(float, input().split()))\n",
        "  return titik2d(*s)\n",
        "  # x, y = list(map(int,input(\"Masukkan x dan y dipisahkan dengan space: \").split()))\n",
        "  # return titik2d(x, y)\n",
        "\n",
        "# >>>>>>AKHIR LEMBAR KERJA>>>>>>>>>\n",
        "\n",
        "\n",
        "# >>>>>TEST DI SINI>>>>>>\n",
        "# gunakan BLOCK MAIN ini untuk mengetes\n",
        "if __name__ == '__main__':\n",
        "  # untuk pengetesan kode hanya boleh di bagian sini\n",
        "  # silakan test sesuka hati di sini\n",
        "  t1 = run()\n",
        "  print('titik1:',t1.ambiltitik())\n",
        "\n",
        "  g = titik2d(3,15)\n",
        "  t1.tambahkan(g)\n",
        "  print('titik1:',t1.ambiltitik())"
      ],
      "execution_count": 3,
      "outputs": [
        {
          "output_type": "stream",
          "text": [
            "1 2\n",
            "titik1: (1, 2)\n",
            "titik1: (4, 17)\n"
          ],
          "name": "stdout"
        }
      ]
    }
  ]
}