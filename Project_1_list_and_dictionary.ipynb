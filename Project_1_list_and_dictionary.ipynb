{
  "nbformat": 4,
  "nbformat_minor": 0,
  "metadata": {
    "colab": {
      "name": "Project_1_list_and_dictionary.ipynb",
      "provenance": [],
      "collapsed_sections": []
    },
    "kernelspec": {
      "name": "python3",
      "display_name": "Python 3"
    }
  },
  "cells": [
    {
      "cell_type": "markdown",
      "metadata": {
        "id": "PmdKYwW_NUjc",
        "colab_type": "text"
      },
      "source": [
        "# Project 1 - Working with list and dictionary \n",
        "## (DEADLINE: 06.00 WIB 8 JUNI 2020)\n",
        "Pada project ini peserta pelatihan python akan membuat code-code untuk mengolah `list` dan `dictionary` \n",
        "\n",
        "Project items yang dibutuhkan:\n",
        "- Pemahaman dan pembuatan `fungsi`, `variabel`, dan `tipe data`\n",
        "- pemahaman `list` dan `dictionary`\n",
        "- logika dasar pemrograman\n",
        "\n",
        "**Note: Tidak diperkenankan untuk menggunakan library/module lain, kecuali disediakan atau didefinisikan**\n",
        "\n",
        ">>**BOLEH BERDISKUSI TANPA MEMBERIKAN JAWABAN!!!**\n",
        "\n"
      ]
    },
    {
      "cell_type": "markdown",
      "metadata": {
        "id": "wmfagSdvOz6m",
        "colab_type": "text"
      },
      "source": [
        "### 1. Buatlah fungsi `letter_catalog` dengan sebuah positional argument berupa list dan keyword argument `letter` untuk nilai default 'A'. Fungsi `letter_catalog` akan mengembalikan sebuah list yang berisi nama-nama buah yang dimulai dengan huruf yang ada keyword argument `letter`. Jika tidak ada item di list inputan tersebut yang diawali dengan huruf yang didefinisikan di keyword `letter` maka fungsi mengembalikan list kosong.\n",
        "\n"
      ]
    },
    {
      "cell_type": "code",
      "metadata": {
        "id": "SZJw59BEO-fd",
        "colab_type": "code",
        "colab": {}
      },
      "source": [
        "#Graded\n",
        "\n",
        "def letter_catalog(items,letter='A'):\n",
        "  # pass\n",
        "  # MULAI KODEMU DI SINI\n",
        "  list = []\n",
        "  for i in items:\n",
        "    if i.startswith(letter):\n",
        "      list.append(i)\n",
        "  print(list)"
      ],
      "execution_count": 0,
      "outputs": []
    },
    {
      "cell_type": "code",
      "metadata": {
        "id": "7fQUkRXl0zCa",
        "colab_type": "code",
        "outputId": "76093b96-2426-4ea5-8927-28ff1684d2f4",
        "colab": {
          "base_uri": "https://localhost:8080/",
          "height": 34
        }
      },
      "source": [
        "# Cek output kode anda\n",
        "letter_catalog(['Apple','Avocado','Banana','Blackberries','Blueberries','Cherries'],letter='A')"
      ],
      "execution_count": 261,
      "outputs": [
        {
          "output_type": "stream",
          "text": [
            "['Apple', 'Avocado']\n"
          ],
          "name": "stdout"
        }
      ]
    },
    {
      "cell_type": "markdown",
      "metadata": {
        "id": "1_Va_bPq0_r1",
        "colab_type": "text"
      },
      "source": [
        "Expected output:\n",
        "```\n",
        "['Apple', 'Avocado']\n",
        "```"
      ]
    },
    {
      "cell_type": "markdown",
      "metadata": {
        "id": "1plym_6cJTmH",
        "colab_type": "text"
      },
      "source": [
        "### 2. Buatlah list `counter_item` yang memiliki sebuah input argument berupa list. Fungsi ini mengembalikan sebuah dictionary yang menghitung jumlah buah dalam list input, dengan `key` berupa nama buah tersebut dan `value` berupa jumlah nama buah tersebut muncul di list input. "
      ]
    },
    {
      "cell_type": "code",
      "metadata": {
        "id": "xZCCOKQIve9d",
        "colab_type": "code",
        "colab": {}
      },
      "source": [
        "#Graded\n",
        "\n",
        "def counter_item(items):\n",
        "  # pass\n",
        "  # MULAI KODEMU DI SINI\n",
        "  my_dict = {}\n",
        "  for i in items:\n",
        "    my_dict[i] = my_dict.get(i, 0) + 1\n",
        "  return my_dict"
      ],
      "execution_count": 0,
      "outputs": []
    },
    {
      "cell_type": "code",
      "metadata": {
        "id": "KfxtWsNj1S19",
        "colab_type": "code",
        "outputId": "14aa4fb3-1a93-41b7-99c3-8a3b780795ab",
        "colab": {
          "base_uri": "https://localhost:8080/",
          "height": 34
        }
      },
      "source": [
        "# Cek output kode anda\n",
        "counter_item(['Apple','Apple','Apple','Blueberries','Blueberries','Blueberries'])"
      ],
      "execution_count": 263,
      "outputs": [
        {
          "output_type": "execute_result",
          "data": {
            "text/plain": [
              "{'Apple': 3, 'Blueberries': 3}"
            ]
          },
          "metadata": {
            "tags": []
          },
          "execution_count": 263
        }
      ]
    },
    {
      "cell_type": "markdown",
      "metadata": {
        "id": "qSh_3MqK1HkK",
        "colab_type": "text"
      },
      "source": [
        "Expected output:\n",
        "```\n",
        "{'Apple': 3, 'Blueberries': 3}\n",
        "```"
      ]
    },
    {
      "cell_type": "markdown",
      "metadata": {
        "id": "RQ5u4YdFKqcL",
        "colab_type": "text"
      },
      "source": [
        "### 3. Di bawah ini sudah ada tiga variables `fruits`, `prices`, dan `chart`. \n",
        "- Buatlah sebuah dictionary yang berupa daftar harga buah dengan `key` berupa nama buah di variable `fruits` dan dengan `value` berupa harga dari buah tersebut di variable `price` (sudah diurutkan sesuai dengan nama-nama buah di varibale `fruits`, kemudian Dictionary tersebut disimpan di dalam variable `fruit_price`.\n",
        "- Selanjutnya, Buatlah fungsi `total_price` dengan dua input yaitu: 1) dictionary yang merupakan keluaran dari fungsi `counter_item` dan 2) dictionary harga buah  `fruit_price`. Fungsi ini mengeluarkan sebuah total harga dari daftar buah di dictionary keluaran dari `counter_item`.\n",
        "\n",
        "**Hint**: Gunakan fungsi `counter_item` di soal nomor 2."
      ]
    },
    {
      "cell_type": "code",
      "metadata": {
        "id": "IfdaUhaxwWNA",
        "colab_type": "code",
        "colab": {}
      },
      "source": [
        "#Graded\n",
        "\n",
        "# dua variable berikut jangan diubah\n",
        "fruits = ['Apple','Avocado','Banana','Blackberries','Blueberries','Cherries','Date Fruit','Grapes','Guava','Jackfruit','Kiwifruit']\n",
        "prices = [6,5,3,10,12,7,14,15,8,7,9]\n",
        "\n",
        "# list buah\n",
        "chart = ['Blueberries','Blueberries','Grapes','Apple','Apple','Apple','Blueberries','Guava','Jackfruit','Blueberries','Jackfruit']\n",
        "\n",
        "# MULAI KODEMU DI SINI\n",
        "fruit_price = dict(zip(fruits, prices))\n",
        "\n",
        "def total_price(dcounter,fprice):\n",
        "  # pass\n",
        "  # MULAI KODEMU DI SINI\n",
        "  dcounter = counter_item(chart)\n",
        "  my_dict = dict()\n",
        "  for i in dcounter:\n",
        "    if i in fprice:\n",
        "      my_dict[i] = dcounter[i] * fprice[i]\n",
        "  return sum(my_dict.values())"
      ],
      "execution_count": 0,
      "outputs": []
    },
    {
      "cell_type": "code",
      "metadata": {
        "id": "xW14Y6f41b8e",
        "colab_type": "code",
        "outputId": "b4e8e066-18b5-4474-c16c-bf55f8699833",
        "colab": {
          "base_uri": "https://localhost:8080/",
          "height": 34
        }
      },
      "source": [
        "# Cek output kode anda\n",
        "total_price(counter_item(chart),fruit_price)"
      ],
      "execution_count": 265,
      "outputs": [
        {
          "output_type": "execute_result",
          "data": {
            "text/plain": [
              "103"
            ]
          },
          "metadata": {
            "tags": []
          },
          "execution_count": 265
        }
      ]
    },
    {
      "cell_type": "markdown",
      "metadata": {
        "id": "pbcpTPNo1LYW",
        "colab_type": "text"
      },
      "source": [
        "Expected output:\n",
        "```\n",
        "103\n",
        "```"
      ]
    },
    {
      "cell_type": "markdown",
      "metadata": {
        "id": "U5VzcIs5R-MJ",
        "colab_type": "text"
      },
      "source": [
        "### 4. Buatlah fungsi `discounted_price` dengan dua positional arguments input dari keluaran fungsi totalprice dan discount dalam persen(80 berarti 80%, dst), dan satu keyword argument `minprice` yang menunjukkan hanya dengan minimum price tersebut yang hanya di-discount, set default value `minprice` ke 100. Fungsi tersebut menghitung nilai harga akhir setelah di-discount sebesar discount variable (argument kedua). Untuk harga total yang kurang dari `minprice` maka keluarannya sama dengan harga total tersebut tanpa discount."
      ]
    },
    {
      "cell_type": "code",
      "metadata": {
        "id": "aHDCFfNQzUzC",
        "colab_type": "code",
        "colab": {}
      },
      "source": [
        "#Graded\n",
        "\n",
        "def discounted_price(total,discount,minprice=100):\n",
        "  # pass\n",
        "  # MULAI KODEMU DI SINI\n",
        "  if total <= minprice:\n",
        "    return minprice\n",
        "  else:\n",
        "    final_price = total - (total * (discount/100))\n",
        "    return final_price"
      ],
      "execution_count": 0,
      "outputs": []
    },
    {
      "cell_type": "code",
      "metadata": {
        "id": "yNhIwaAZ1lzX",
        "colab_type": "code",
        "colab": {
          "base_uri": "https://localhost:8080/",
          "height": 34
        },
        "outputId": "c6b85fa7-4e92-47fd-c024-0c9e369e4999"
      },
      "source": [
        "# Cek output kode anda\n",
        "discounted_price(total_price(counter_item(chart),fruit_price),10,minprice=100)"
      ],
      "execution_count": 267,
      "outputs": [
        {
          "output_type": "execute_result",
          "data": {
            "text/plain": [
              "92.7"
            ]
          },
          "metadata": {
            "tags": []
          },
          "execution_count": 267
        }
      ]
    },
    {
      "cell_type": "markdown",
      "metadata": {
        "id": "cweITli-1Mhp",
        "colab_type": "text"
      },
      "source": [
        "Expected output:\n",
        "```\n",
        "92.7\n",
        "```"
      ]
    },
    {
      "cell_type": "markdown",
      "metadata": {
        "id": "wFj8-NVV3Zh1",
        "colab_type": "text"
      },
      "source": [
        "### 5. Buatlah fungsi `print_summary` dengan 2 posisional argument input, list nama2 buah (cth: seperti variable `chart`) dan dictionary harga buah (cth: seperti variable `fruit_price`, yang mengeluarkan tulisan ringakasan dari pembelian buah seperti berikut ini.\n",
        "\n",
        "cth keluaran:\n",
        "```\n",
        "3 Apple : 18\n",
        "4 Blueberries : 48\n",
        "1 Grapes : 15\n",
        "1 Guava : 8\n",
        "2 Jackfruit : 14\n",
        "total : 103\n",
        "discount price : 92.7\n",
        "```\n",
        "dengan format `jumlahbuah`\\<spasi\\>`namabuah`\\<spasi\\>`totalhargabuah\\n` dengan nama nama buah berurutan sesuai abjad `ascending`, kemudian diikuti total harga semuanya dan discount price dengan besaran 10% dengan minimum harga pembelian 100.\n",
        "\n",
        "**Note**: dipisahkan hanya satu spasi. Output harus sama dengan contoh diatas untuk pemanggilan fungsi berikut ini.\n",
        "```\n",
        "print_summary(chart,fruit_price)\n",
        "```\n",
        "\n",
        "\n",
        "\n",
        "\n"
      ]
    },
    {
      "cell_type": "code",
      "metadata": {
        "id": "zXQzarsv1_bS",
        "colab_type": "code",
        "colab": {}
      },
      "source": [
        "#Graded\n",
        "\n",
        "def print_summary(items,fprice):\n",
        "  # pass\n",
        "  # MULAI KODEMU DI SINI\n",
        "  count = counter_item(items)\n",
        "  my_dict = {}\n",
        "  for i in sorted(count):\n",
        "    if i in fprice:\n",
        "      my_dict[i] = count[i] * fprice[i]\n",
        "      print(count[i], i, \":\", my_dict[i])\n",
        "\n",
        "  print(\"total :\", total_price(counter_item(chart),fruit_price))\n",
        "  print(\"discount price :\", discounted_price(total_price(counter_item(chart),fruit_price),10,minprice=100))"
      ],
      "execution_count": 0,
      "outputs": []
    },
    {
      "cell_type": "code",
      "metadata": {
        "id": "lh0v-YiH1w24",
        "colab_type": "code",
        "colab": {
          "base_uri": "https://localhost:8080/",
          "height": 136
        },
        "outputId": "0e56c289-41aa-4c81-d9f3-c7c7c9d8bd64"
      },
      "source": [
        "# Cek output kode anda\n",
        "print_summary(chart,fruit_price)\n",
        "  "
      ],
      "execution_count": 270,
      "outputs": [
        {
          "output_type": "stream",
          "text": [
            "3 Apple : 18\n",
            "4 Blueberries : 48\n",
            "1 Grapes : 15\n",
            "1 Guava : 8\n",
            "2 Jackfruit : 14\n",
            "total : 103\n",
            "discount price : 92.7\n"
          ],
          "name": "stdout"
        }
      ]
    },
    {
      "cell_type": "markdown",
      "metadata": {
        "id": "UroVZiY51Oqk",
        "colab_type": "text"
      },
      "source": [
        "Expected output:\n",
        "```\n",
        "3 Apple : 18\n",
        "4 Blueberries : 48\n",
        "1 Grapes : 15\n",
        "1 Guava : 8\n",
        "2 Jackfruit : 14\n",
        "total : 103\n",
        "discount price : 92.7\n",
        "```"
      ]
    },
    {
      "cell_type": "markdown",
      "metadata": {
        "id": "WoJFPIBvwg8L",
        "colab_type": "text"
      },
      "source": [
        "# Cara Submit\n",
        "1. Tuliskan email akun netacad anda di variable email (tentunya dengan tanda kutip) \n",
        "2. Copy-paste **SEMUA** cell yang ada komentar `#Graded` ke cell code di bawah ini.\n",
        "3. Simpan kode tersebut sebagai p1.py\n",
        "4. Submit file ke google form berikut: https://forms.gle/6AQ8BYM8UoMK7kJg6\n",
        "5. Pengisian form membutuhkan anda login ke akun google anda.\n",
        "\n"
      ]
    },
    {
      "cell_type": "code",
      "metadata": {
        "id": "V1eLQuC9xgZ-",
        "colab_type": "code",
        "colab": {}
      },
      "source": [
        "# nama file p1.py \n",
        "# Isikan nama anda dan copy semua cell code yang dengan komentar #Graded\n",
        " \n",
        "#netacad email cth: 'abcd@gmail.com'\n",
        "email='mgbratanata@gmail.com'\n",
        " \n",
        "# copy-paste semua #Graded cells YANG SUDAH ANDA KERJAKAN di bawah ini"
      ],
      "execution_count": 0,
      "outputs": []
    }
  ]
}